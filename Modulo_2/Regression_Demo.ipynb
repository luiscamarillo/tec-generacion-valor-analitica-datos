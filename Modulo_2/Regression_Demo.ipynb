{
 "cells": [
  {
   "cell_type": "markdown",
   "id": "2d8afa6a",
   "metadata": {},
   "source": [
    "# Introducción a Jupyter Notebooks\n",
    "\n",
    "## Markdown: https://www.markdownguide.org/\n",
    "### Heading 3\n",
    "#### Heading 4\n",
    "##### Heading 5\n",
    "\n",
    "Dar *énfasis* o **super énfasis.**\n",
    "\n",
    "Escribir listas:\n",
    "- 1\n",
    "- 2\n",
    "- 3\n",
    "\n",
    "1. a\n",
    "2. b\n",
    "3. c\n",
    "4. d\n",
    "\n",
    "## Manipulación de celdas\n",
    "- Correr celda: `shift+enter` o `ctrl+enter`\n",
    "- Agregar celdas: `a` (above), `b` (below)\n",
    "- Borrar celda: `dd` (delete)\n",
    "- Convertir celda en Markdown: `m`\n",
    "- Convertir celda en código: `y`"
   ]
  },
  {
   "cell_type": "code",
   "execution_count": 1,
   "id": "2d5851fa",
   "metadata": {},
   "outputs": [
    {
     "data": {
      "text/plain": [
       "2"
      ]
     },
     "execution_count": 1,
     "metadata": {},
     "output_type": "execute_result"
    }
   ],
   "source": [
    "1 + 1"
   ]
  },
  {
   "cell_type": "code",
   "execution_count": 2,
   "id": "06fcba08",
   "metadata": {},
   "outputs": [],
   "source": [
    "resultado = 2*8"
   ]
  },
  {
   "cell_type": "code",
   "execution_count": 3,
   "id": "c580e414",
   "metadata": {},
   "outputs": [
    {
     "data": {
      "text/plain": [
       "16"
      ]
     },
     "execution_count": 3,
     "metadata": {},
     "output_type": "execute_result"
    }
   ],
   "source": [
    "# Podemos imprimir variables\n",
    "resultado"
   ]
  },
  {
   "cell_type": "code",
   "execution_count": 4,
   "id": "b3178791",
   "metadata": {},
   "outputs": [
    {
     "name": "stdout",
     "output_type": "stream",
     "text": [
      "Hello world.\n"
     ]
    }
   ],
   "source": [
    "print(\"Hello world.\")"
   ]
  },
  {
   "cell_type": "code",
   "execution_count": 5,
   "id": "a5560c68",
   "metadata": {},
   "outputs": [],
   "source": [
    "hello_word = \"Hello world.\""
   ]
  },
  {
   "cell_type": "code",
   "execution_count": 6,
   "id": "cdefed25",
   "metadata": {},
   "outputs": [
    {
     "data": {
      "text/plain": [
       "'Hello world.'"
      ]
     },
     "execution_count": 6,
     "metadata": {},
     "output_type": "execute_result"
    }
   ],
   "source": [
    "hello_word"
   ]
  },
  {
   "cell_type": "markdown",
   "id": "73041e47",
   "metadata": {},
   "source": [
    "# Librerías"
   ]
  },
  {
   "cell_type": "code",
   "execution_count": 7,
   "id": "b75511c2",
   "metadata": {},
   "outputs": [],
   "source": [
    "# Manipulación de datos\n",
    "import pandas as pd\n",
    "\n",
    "# Manipulación de arreglos y matrices\n",
    "import numpy as np\n",
    "\n",
    "# Visualización\n",
    "import matplotlib.pyplot as plt"
   ]
  },
  {
   "cell_type": "markdown",
   "id": "3f58933d",
   "metadata": {},
   "source": [
    "# 1. ¿Qué vamos a hacer?\n",
    "\n",
    "Como científicos de datos, nos están solicitando diseñar un modelo de pronostique el rendimiento de combustible en mpg para automóviles.\n",
    "- Rendimiento de combustible en mpg → valor numerérico → regresión\n",
    "\n",
    "Para esto, nos proporcionaron un dataset del UC Irvine Machine Learning Repository desponible en: http://archive.ics.uci.edu/dataset/9/auto+mpg.\n",
    "\n",
    "Este contiene los siguientes atributos:\n",
    "\n",
    "**Predictors:**\n",
    "\n",
    "1. **mpg:**           continuous\n",
    "2. **cylinders:**     multi-valued discrete\n",
    "3. **displacement:**  continuous\n",
    "4. **horsepower:**    continuous\n",
    "5. **weight:**        continuous\n",
    "6. **acceleration:**  continuous\n",
    "7. **model year:**    multi-valued discrete\n",
    "8. **origin:**        multi-valued discrete\n",
    "9. **car name:**      string (unique for each instance)"
   ]
  },
  {
   "cell_type": "markdown",
   "id": "c8549a57",
   "metadata": {},
   "source": [
    "# 2. ¿Qué datos vamos a utilizar?\n",
    "Ahora, vamos a leer el dataset e iniciar una breve exploración.\n",
    "\n",
    "Los datos se encuentran en un archivo csv llamado **`autom-mgp.csv`**."
   ]
  },
  {
   "cell_type": "code",
   "execution_count": 8,
   "id": "7fda15ce",
   "metadata": {},
   "outputs": [],
   "source": [
    "# Podemos usar pandas para leer los datos y guardarlos en un dataframe llamado\n",
    "# \"auto_mpg_df\"\n",
    "auto_mpg_df = pd.read_csv('data/auto-mpg.csv')"
   ]
  },
  {
   "cell_type": "markdown",
   "id": "454e3569",
   "metadata": {},
   "source": [
    "## Ahora, revisa los datos\n",
    "- **`.head()`** nos permite visualizar los primeros 5 registros del dataframe."
   ]
  },
  {
   "cell_type": "code",
   "execution_count": 9,
   "id": "7e53d9c1",
   "metadata": {},
   "outputs": [
    {
     "data": {
      "text/html": [
       "<div>\n",
       "<style scoped>\n",
       "    .dataframe tbody tr th:only-of-type {\n",
       "        vertical-align: middle;\n",
       "    }\n",
       "\n",
       "    .dataframe tbody tr th {\n",
       "        vertical-align: top;\n",
       "    }\n",
       "\n",
       "    .dataframe thead th {\n",
       "        text-align: right;\n",
       "    }\n",
       "</style>\n",
       "<table border=\"1\" class=\"dataframe\">\n",
       "  <thead>\n",
       "    <tr style=\"text-align: right;\">\n",
       "      <th></th>\n",
       "      <th>mpg</th>\n",
       "      <th>cylinders</th>\n",
       "      <th>displacement</th>\n",
       "      <th>horsepower</th>\n",
       "      <th>weight</th>\n",
       "      <th>acceleration</th>\n",
       "      <th>model_year</th>\n",
       "      <th>origin</th>\n",
       "      <th>car_name</th>\n",
       "    </tr>\n",
       "  </thead>\n",
       "  <tbody>\n",
       "    <tr>\n",
       "      <th>0</th>\n",
       "      <td>18.0</td>\n",
       "      <td>8</td>\n",
       "      <td>307.0</td>\n",
       "      <td>130.0</td>\n",
       "      <td>3504.0</td>\n",
       "      <td>12.0</td>\n",
       "      <td>70</td>\n",
       "      <td>1</td>\n",
       "      <td>chevrolet chevelle malibu</td>\n",
       "    </tr>\n",
       "    <tr>\n",
       "      <th>1</th>\n",
       "      <td>15.0</td>\n",
       "      <td>8</td>\n",
       "      <td>350.0</td>\n",
       "      <td>165.0</td>\n",
       "      <td>3693.0</td>\n",
       "      <td>11.5</td>\n",
       "      <td>70</td>\n",
       "      <td>1</td>\n",
       "      <td>buick skylark 320</td>\n",
       "    </tr>\n",
       "    <tr>\n",
       "      <th>2</th>\n",
       "      <td>18.0</td>\n",
       "      <td>8</td>\n",
       "      <td>318.0</td>\n",
       "      <td>150.0</td>\n",
       "      <td>3436.0</td>\n",
       "      <td>11.0</td>\n",
       "      <td>70</td>\n",
       "      <td>1</td>\n",
       "      <td>plymouth satellite</td>\n",
       "    </tr>\n",
       "    <tr>\n",
       "      <th>3</th>\n",
       "      <td>16.0</td>\n",
       "      <td>8</td>\n",
       "      <td>304.0</td>\n",
       "      <td>150.0</td>\n",
       "      <td>3433.0</td>\n",
       "      <td>12.0</td>\n",
       "      <td>70</td>\n",
       "      <td>1</td>\n",
       "      <td>amc rebel sst</td>\n",
       "    </tr>\n",
       "    <tr>\n",
       "      <th>4</th>\n",
       "      <td>17.0</td>\n",
       "      <td>8</td>\n",
       "      <td>302.0</td>\n",
       "      <td>140.0</td>\n",
       "      <td>3449.0</td>\n",
       "      <td>10.5</td>\n",
       "      <td>70</td>\n",
       "      <td>1</td>\n",
       "      <td>ford torino</td>\n",
       "    </tr>\n",
       "  </tbody>\n",
       "</table>\n",
       "</div>"
      ],
      "text/plain": [
       "    mpg  cylinders  displacement  horsepower  weight  acceleration  \\\n",
       "0  18.0          8         307.0       130.0  3504.0          12.0   \n",
       "1  15.0          8         350.0       165.0  3693.0          11.5   \n",
       "2  18.0          8         318.0       150.0  3436.0          11.0   \n",
       "3  16.0          8         304.0       150.0  3433.0          12.0   \n",
       "4  17.0          8         302.0       140.0  3449.0          10.5   \n",
       "\n",
       "   model_year  origin                   car_name  \n",
       "0          70       1  chevrolet chevelle malibu  \n",
       "1          70       1          buick skylark 320  \n",
       "2          70       1         plymouth satellite  \n",
       "3          70       1              amc rebel sst  \n",
       "4          70       1                ford torino  "
      ]
     },
     "execution_count": 9,
     "metadata": {},
     "output_type": "execute_result"
    }
   ],
   "source": [
    "auto_mpg_df.head()"
   ]
  },
  {
   "cell_type": "markdown",
   "id": "83c2b0ef",
   "metadata": {},
   "source": [
    "- **`.info()`** nos permite revisar los detalles de cada atributo, como:\n",
    "    - nombre de cada columna/atributo\n",
    "    - número de registros no vacíos\n",
    "    - tipo de dato"
   ]
  },
  {
   "cell_type": "code",
   "execution_count": 10,
   "id": "6d79aa21",
   "metadata": {},
   "outputs": [
    {
     "name": "stdout",
     "output_type": "stream",
     "text": [
      "<class 'pandas.core.frame.DataFrame'>\n",
      "RangeIndex: 398 entries, 0 to 397\n",
      "Data columns (total 9 columns):\n",
      " #   Column        Non-Null Count  Dtype  \n",
      "---  ------        --------------  -----  \n",
      " 0   mpg           398 non-null    float64\n",
      " 1   cylinders     398 non-null    int64  \n",
      " 2   displacement  398 non-null    float64\n",
      " 3   horsepower    392 non-null    float64\n",
      " 4   weight        398 non-null    float64\n",
      " 5   acceleration  398 non-null    float64\n",
      " 6   model_year    398 non-null    int64  \n",
      " 7   origin        398 non-null    int64  \n",
      " 8   car_name      398 non-null    object \n",
      "dtypes: float64(5), int64(3), object(1)\n",
      "memory usage: 28.1+ KB\n"
     ]
    }
   ],
   "source": [
    "auto_mpg_df.info()"
   ]
  },
  {
   "cell_type": "code",
   "execution_count": 11,
   "id": "91f8921a",
   "metadata": {},
   "outputs": [],
   "source": [
    "#auto_mpg_df[auto_mpg_df.isnull().any(axis=1)]"
   ]
  },
  {
   "cell_type": "markdown",
   "id": "efa4e956",
   "metadata": {},
   "source": [
    "- **`.describe()`** nos permite obtener las estadísticas descriptivas de los atributos numéricos, como:\n",
    "    - cantidad de registros\n",
    "    - promedio\n",
    "    - desviación estándar\n",
    "    - valor mínimo\n",
    "    - cuartiles\n",
    "    - valor máximo"
   ]
  },
  {
   "cell_type": "code",
   "execution_count": 12,
   "id": "160f1449",
   "metadata": {},
   "outputs": [
    {
     "data": {
      "text/html": [
       "<div>\n",
       "<style scoped>\n",
       "    .dataframe tbody tr th:only-of-type {\n",
       "        vertical-align: middle;\n",
       "    }\n",
       "\n",
       "    .dataframe tbody tr th {\n",
       "        vertical-align: top;\n",
       "    }\n",
       "\n",
       "    .dataframe thead th {\n",
       "        text-align: right;\n",
       "    }\n",
       "</style>\n",
       "<table border=\"1\" class=\"dataframe\">\n",
       "  <thead>\n",
       "    <tr style=\"text-align: right;\">\n",
       "      <th></th>\n",
       "      <th>mpg</th>\n",
       "      <th>cylinders</th>\n",
       "      <th>displacement</th>\n",
       "      <th>horsepower</th>\n",
       "      <th>weight</th>\n",
       "      <th>acceleration</th>\n",
       "      <th>model_year</th>\n",
       "      <th>origin</th>\n",
       "    </tr>\n",
       "  </thead>\n",
       "  <tbody>\n",
       "    <tr>\n",
       "      <th>count</th>\n",
       "      <td>398.000000</td>\n",
       "      <td>398.000000</td>\n",
       "      <td>398.000000</td>\n",
       "      <td>392.000000</td>\n",
       "      <td>398.000000</td>\n",
       "      <td>398.000000</td>\n",
       "      <td>398.000000</td>\n",
       "      <td>398.000000</td>\n",
       "    </tr>\n",
       "    <tr>\n",
       "      <th>mean</th>\n",
       "      <td>23.514573</td>\n",
       "      <td>5.454774</td>\n",
       "      <td>193.425879</td>\n",
       "      <td>104.469388</td>\n",
       "      <td>2970.424623</td>\n",
       "      <td>15.568090</td>\n",
       "      <td>76.010050</td>\n",
       "      <td>1.572864</td>\n",
       "    </tr>\n",
       "    <tr>\n",
       "      <th>std</th>\n",
       "      <td>7.815984</td>\n",
       "      <td>1.701004</td>\n",
       "      <td>104.269838</td>\n",
       "      <td>38.491160</td>\n",
       "      <td>846.841774</td>\n",
       "      <td>2.757689</td>\n",
       "      <td>3.697627</td>\n",
       "      <td>0.802055</td>\n",
       "    </tr>\n",
       "    <tr>\n",
       "      <th>min</th>\n",
       "      <td>9.000000</td>\n",
       "      <td>3.000000</td>\n",
       "      <td>68.000000</td>\n",
       "      <td>46.000000</td>\n",
       "      <td>1613.000000</td>\n",
       "      <td>8.000000</td>\n",
       "      <td>70.000000</td>\n",
       "      <td>1.000000</td>\n",
       "    </tr>\n",
       "    <tr>\n",
       "      <th>25%</th>\n",
       "      <td>17.500000</td>\n",
       "      <td>4.000000</td>\n",
       "      <td>104.250000</td>\n",
       "      <td>75.000000</td>\n",
       "      <td>2223.750000</td>\n",
       "      <td>13.825000</td>\n",
       "      <td>73.000000</td>\n",
       "      <td>1.000000</td>\n",
       "    </tr>\n",
       "    <tr>\n",
       "      <th>50%</th>\n",
       "      <td>23.000000</td>\n",
       "      <td>4.000000</td>\n",
       "      <td>148.500000</td>\n",
       "      <td>93.500000</td>\n",
       "      <td>2803.500000</td>\n",
       "      <td>15.500000</td>\n",
       "      <td>76.000000</td>\n",
       "      <td>1.000000</td>\n",
       "    </tr>\n",
       "    <tr>\n",
       "      <th>75%</th>\n",
       "      <td>29.000000</td>\n",
       "      <td>8.000000</td>\n",
       "      <td>262.000000</td>\n",
       "      <td>126.000000</td>\n",
       "      <td>3608.000000</td>\n",
       "      <td>17.175000</td>\n",
       "      <td>79.000000</td>\n",
       "      <td>2.000000</td>\n",
       "    </tr>\n",
       "    <tr>\n",
       "      <th>max</th>\n",
       "      <td>46.600000</td>\n",
       "      <td>8.000000</td>\n",
       "      <td>455.000000</td>\n",
       "      <td>230.000000</td>\n",
       "      <td>5140.000000</td>\n",
       "      <td>24.800000</td>\n",
       "      <td>82.000000</td>\n",
       "      <td>3.000000</td>\n",
       "    </tr>\n",
       "  </tbody>\n",
       "</table>\n",
       "</div>"
      ],
      "text/plain": [
       "              mpg   cylinders  displacement  horsepower       weight  \\\n",
       "count  398.000000  398.000000    398.000000  392.000000   398.000000   \n",
       "mean    23.514573    5.454774    193.425879  104.469388  2970.424623   \n",
       "std      7.815984    1.701004    104.269838   38.491160   846.841774   \n",
       "min      9.000000    3.000000     68.000000   46.000000  1613.000000   \n",
       "25%     17.500000    4.000000    104.250000   75.000000  2223.750000   \n",
       "50%     23.000000    4.000000    148.500000   93.500000  2803.500000   \n",
       "75%     29.000000    8.000000    262.000000  126.000000  3608.000000   \n",
       "max     46.600000    8.000000    455.000000  230.000000  5140.000000   \n",
       "\n",
       "       acceleration  model_year      origin  \n",
       "count    398.000000  398.000000  398.000000  \n",
       "mean      15.568090   76.010050    1.572864  \n",
       "std        2.757689    3.697627    0.802055  \n",
       "min        8.000000   70.000000    1.000000  \n",
       "25%       13.825000   73.000000    1.000000  \n",
       "50%       15.500000   76.000000    1.000000  \n",
       "75%       17.175000   79.000000    2.000000  \n",
       "max       24.800000   82.000000    3.000000  "
      ]
     },
     "execution_count": 12,
     "metadata": {},
     "output_type": "execute_result"
    }
   ],
   "source": [
    "auto_mpg_df.describe()"
   ]
  },
  {
   "cell_type": "markdown",
   "id": "2114b666",
   "metadata": {},
   "source": [
    "## Y visualiza los datos\n",
    "- Con una serie de histogramas, podemos visualizar la distribución de cada atributo."
   ]
  },
  {
   "cell_type": "code",
   "execution_count": 13,
   "id": "e6a474cb",
   "metadata": {},
   "outputs": [
    {
     "data": {
      "image/png": "[encoded data removed]",
      "text/plain": [
       "<Figure size 1440x1080 with 9 Axes>"
      ]
     },
     "metadata": {
      "needs_background": "light"
     },
     "output_type": "display_data"
    }
   ],
   "source": [
    "auto_mpg_df.hist(bins=50, figsize=(20,15))\n",
    "plt.show()"
   ]
  },
  {
   "cell_type": "markdown",
   "id": "2f618951",
   "metadata": {},
   "source": [
    "## Finalmente, separa los datos en sets de entrenamiento y evaluación\n",
    "- Es importante sólo trabajar con los datos de entrenamiento, y dejar a un lado el set de evaluación: esto evitará sesgar tu análisis -- data snooping bias.\n",
    "- Para esto, podemos importar la función **`train_test_split`** de la librería de Machine Learning **`scikit-learn`**.\n",
    "- **`train_test_split`** nos permitirá dividir **`auto_mpg_df`** en un set de entrenamiento (**`train_set`**) y evaluación (**`test_set`**), a un razón 80:20."
   ]
  },
  {
   "cell_type": "code",
   "execution_count": 14,
   "id": "3547b84f",
   "metadata": {},
   "outputs": [],
   "source": [
    "from sklearn.model_selection import train_test_split\n",
    "\n",
    "train_set, test_set = train_test_split(auto_mpg_df, test_size=0.2, random_state=42)"
   ]
  },
  {
   "cell_type": "markdown",
   "id": "5d5db5f8",
   "metadata": {},
   "source": [
    "Y finalmente, podemos explorar las diferencias entre los dos datasets, así como su cantidad de registros."
   ]
  },
  {
   "cell_type": "code",
   "execution_count": 15,
   "id": "75199181",
   "metadata": {
    "scrolled": true
   },
   "outputs": [
    {
     "data": {
      "text/html": [
       "<div>\n",
       "<style scoped>\n",
       "    .dataframe tbody tr th:only-of-type {\n",
       "        vertical-align: middle;\n",
       "    }\n",
       "\n",
       "    .dataframe tbody tr th {\n",
       "        vertical-align: top;\n",
       "    }\n",
       "\n",
       "    .dataframe thead th {\n",
       "        text-align: right;\n",
       "    }\n",
       "</style>\n",
       "<table border=\"1\" class=\"dataframe\">\n",
       "  <thead>\n",
       "    <tr style=\"text-align: right;\">\n",
       "      <th></th>\n",
       "      <th>mpg</th>\n",
       "      <th>cylinders</th>\n",
       "      <th>displacement</th>\n",
       "      <th>horsepower</th>\n",
       "      <th>weight</th>\n",
       "      <th>acceleration</th>\n",
       "      <th>model_year</th>\n",
       "      <th>origin</th>\n",
       "      <th>car_name</th>\n",
       "    </tr>\n",
       "  </thead>\n",
       "  <tbody>\n",
       "    <tr>\n",
       "      <th>3</th>\n",
       "      <td>16.0</td>\n",
       "      <td>8</td>\n",
       "      <td>304.0</td>\n",
       "      <td>150.0</td>\n",
       "      <td>3433.0</td>\n",
       "      <td>12.0</td>\n",
       "      <td>70</td>\n",
       "      <td>1</td>\n",
       "      <td>amc rebel sst</td>\n",
       "    </tr>\n",
       "    <tr>\n",
       "      <th>18</th>\n",
       "      <td>27.0</td>\n",
       "      <td>4</td>\n",
       "      <td>97.0</td>\n",
       "      <td>88.0</td>\n",
       "      <td>2130.0</td>\n",
       "      <td>14.5</td>\n",
       "      <td>70</td>\n",
       "      <td>3</td>\n",
       "      <td>datsun pl510</td>\n",
       "    </tr>\n",
       "    <tr>\n",
       "      <th>376</th>\n",
       "      <td>37.0</td>\n",
       "      <td>4</td>\n",
       "      <td>91.0</td>\n",
       "      <td>68.0</td>\n",
       "      <td>2025.0</td>\n",
       "      <td>18.2</td>\n",
       "      <td>82</td>\n",
       "      <td>3</td>\n",
       "      <td>mazda glc custom l</td>\n",
       "    </tr>\n",
       "    <tr>\n",
       "      <th>248</th>\n",
       "      <td>36.1</td>\n",
       "      <td>4</td>\n",
       "      <td>91.0</td>\n",
       "      <td>60.0</td>\n",
       "      <td>1800.0</td>\n",
       "      <td>16.4</td>\n",
       "      <td>78</td>\n",
       "      <td>3</td>\n",
       "      <td>honda civic cvcc</td>\n",
       "    </tr>\n",
       "    <tr>\n",
       "      <th>177</th>\n",
       "      <td>23.0</td>\n",
       "      <td>4</td>\n",
       "      <td>115.0</td>\n",
       "      <td>95.0</td>\n",
       "      <td>2694.0</td>\n",
       "      <td>15.0</td>\n",
       "      <td>75</td>\n",
       "      <td>2</td>\n",
       "      <td>audi 100ls</td>\n",
       "    </tr>\n",
       "  </tbody>\n",
       "</table>\n",
       "</div>"
      ],
      "text/plain": [
       "      mpg  cylinders  displacement  horsepower  weight  acceleration  \\\n",
       "3    16.0          8         304.0       150.0  3433.0          12.0   \n",
       "18   27.0          4          97.0        88.0  2130.0          14.5   \n",
       "376  37.0          4          91.0        68.0  2025.0          18.2   \n",
       "248  36.1          4          91.0        60.0  1800.0          16.4   \n",
       "177  23.0          4         115.0        95.0  2694.0          15.0   \n",
       "\n",
       "     model_year  origin            car_name  \n",
       "3            70       1       amc rebel sst  \n",
       "18           70       3        datsun pl510  \n",
       "376          82       3  mazda glc custom l  \n",
       "248          78       3    honda civic cvcc  \n",
       "177          75       2          audi 100ls  "
      ]
     },
     "execution_count": 15,
     "metadata": {},
     "output_type": "execute_result"
    }
   ],
   "source": [
    "train_set.head()"
   ]
  },
  {
   "cell_type": "code",
   "execution_count": 16,
   "id": "7e092adb",
   "metadata": {},
   "outputs": [
    {
     "data": {
      "text/html": [
       "<div>\n",
       "<style scoped>\n",
       "    .dataframe tbody tr th:only-of-type {\n",
       "        vertical-align: middle;\n",
       "    }\n",
       "\n",
       "    .dataframe tbody tr th {\n",
       "        vertical-align: top;\n",
       "    }\n",
       "\n",
       "    .dataframe thead th {\n",
       "        text-align: right;\n",
       "    }\n",
       "</style>\n",
       "<table border=\"1\" class=\"dataframe\">\n",
       "  <thead>\n",
       "    <tr style=\"text-align: right;\">\n",
       "      <th></th>\n",
       "      <th>mpg</th>\n",
       "      <th>cylinders</th>\n",
       "      <th>displacement</th>\n",
       "      <th>horsepower</th>\n",
       "      <th>weight</th>\n",
       "      <th>acceleration</th>\n",
       "      <th>model_year</th>\n",
       "      <th>origin</th>\n",
       "      <th>car_name</th>\n",
       "    </tr>\n",
       "  </thead>\n",
       "  <tbody>\n",
       "    <tr>\n",
       "      <th>198</th>\n",
       "      <td>33.0</td>\n",
       "      <td>4</td>\n",
       "      <td>91.0</td>\n",
       "      <td>53.0</td>\n",
       "      <td>1795.0</td>\n",
       "      <td>17.4</td>\n",
       "      <td>76</td>\n",
       "      <td>3</td>\n",
       "      <td>honda civic</td>\n",
       "    </tr>\n",
       "    <tr>\n",
       "      <th>396</th>\n",
       "      <td>28.0</td>\n",
       "      <td>4</td>\n",
       "      <td>120.0</td>\n",
       "      <td>79.0</td>\n",
       "      <td>2625.0</td>\n",
       "      <td>18.6</td>\n",
       "      <td>82</td>\n",
       "      <td>1</td>\n",
       "      <td>ford ranger</td>\n",
       "    </tr>\n",
       "    <tr>\n",
       "      <th>33</th>\n",
       "      <td>19.0</td>\n",
       "      <td>6</td>\n",
       "      <td>232.0</td>\n",
       "      <td>100.0</td>\n",
       "      <td>2634.0</td>\n",
       "      <td>13.0</td>\n",
       "      <td>71</td>\n",
       "      <td>1</td>\n",
       "      <td>amc gremlin</td>\n",
       "    </tr>\n",
       "    <tr>\n",
       "      <th>208</th>\n",
       "      <td>13.0</td>\n",
       "      <td>8</td>\n",
       "      <td>318.0</td>\n",
       "      <td>150.0</td>\n",
       "      <td>3940.0</td>\n",
       "      <td>13.2</td>\n",
       "      <td>76</td>\n",
       "      <td>1</td>\n",
       "      <td>plymouth volare premier v8</td>\n",
       "    </tr>\n",
       "    <tr>\n",
       "      <th>93</th>\n",
       "      <td>14.0</td>\n",
       "      <td>8</td>\n",
       "      <td>318.0</td>\n",
       "      <td>150.0</td>\n",
       "      <td>4237.0</td>\n",
       "      <td>14.5</td>\n",
       "      <td>73</td>\n",
       "      <td>1</td>\n",
       "      <td>plymouth fury gran sedan</td>\n",
       "    </tr>\n",
       "  </tbody>\n",
       "</table>\n",
       "</div>"
      ],
      "text/plain": [
       "      mpg  cylinders  displacement  horsepower  weight  acceleration  \\\n",
       "198  33.0          4          91.0        53.0  1795.0          17.4   \n",
       "396  28.0          4         120.0        79.0  2625.0          18.6   \n",
       "33   19.0          6         232.0       100.0  2634.0          13.0   \n",
       "208  13.0          8         318.0       150.0  3940.0          13.2   \n",
       "93   14.0          8         318.0       150.0  4237.0          14.5   \n",
       "\n",
       "     model_year  origin                    car_name  \n",
       "198          76       3                 honda civic  \n",
       "396          82       1                 ford ranger  \n",
       "33           71       1                 amc gremlin  \n",
       "208          76       1  plymouth volare premier v8  \n",
       "93           73       1    plymouth fury gran sedan  "
      ]
     },
     "execution_count": 16,
     "metadata": {},
     "output_type": "execute_result"
    }
   ],
   "source": [
    "test_set.head()"
   ]
  },
  {
   "cell_type": "markdown",
   "id": "b8cc8650",
   "metadata": {},
   "source": [
    "Tenemos muchos más datos disponibles en el set de entrenamiento..."
   ]
  },
  {
   "cell_type": "code",
   "execution_count": 17,
   "id": "76e6a03d",
   "metadata": {},
   "outputs": [
    {
     "name": "stdout",
     "output_type": "stream",
     "text": [
      "train:  318 ; test:  80\n"
     ]
    }
   ],
   "source": [
    "print(\"train: \", len(train_set), \"; test: \", len(test_set))"
   ]
  },
  {
   "cell_type": "markdown",
   "id": "32c9d8a9",
   "metadata": {},
   "source": [
    "# 3. Visualiza y explora los datos para obtener insights\n",
    "- A partir de -las siguientes celdas, vamos a analizar solamente los datos de entrenamiento, para encontrar relaciones interesantes entre nuestros atributos que nos ayuden a pronosticar **`mpg`**.\n",
    "- Iniciaremos obteniendo una matriz de correlaciones:"
   ]
  },
  {
   "cell_type": "code",
   "execution_count": 18,
   "id": "1947e198",
   "metadata": {},
   "outputs": [],
   "source": [
    "corr_matrix = train_set.corr()"
   ]
  },
  {
   "cell_type": "code",
   "execution_count": 19,
   "id": "daccfc92",
   "metadata": {},
   "outputs": [
    {
     "data": {
      "text/html": [
       "<div>\n",
       "<style scoped>\n",
       "    .dataframe tbody tr th:only-of-type {\n",
       "        vertical-align: middle;\n",
       "    }\n",
       "\n",
       "    .dataframe tbody tr th {\n",
       "        vertical-align: top;\n",
       "    }\n",
       "\n",
       "    .dataframe thead th {\n",
       "        text-align: right;\n",
       "    }\n",
       "</style>\n",
       "<table border=\"1\" class=\"dataframe\">\n",
       "  <thead>\n",
       "    <tr style=\"text-align: right;\">\n",
       "      <th></th>\n",
       "      <th>mpg</th>\n",
       "      <th>cylinders</th>\n",
       "      <th>displacement</th>\n",
       "      <th>horsepower</th>\n",
       "      <th>weight</th>\n",
       "      <th>acceleration</th>\n",
       "      <th>model_year</th>\n",
       "      <th>origin</th>\n",
       "    </tr>\n",
       "  </thead>\n",
       "  <tbody>\n",
       "    <tr>\n",
       "      <th>mpg</th>\n",
       "      <td>1.000000</td>\n",
       "      <td>-0.770459</td>\n",
       "      <td>-0.801543</td>\n",
       "      <td>-0.772308</td>\n",
       "      <td>-0.827333</td>\n",
       "      <td>0.390101</td>\n",
       "      <td>0.586743</td>\n",
       "      <td>0.562710</td>\n",
       "    </tr>\n",
       "    <tr>\n",
       "      <th>cylinders</th>\n",
       "      <td>-0.770459</td>\n",
       "      <td>1.000000</td>\n",
       "      <td>0.951825</td>\n",
       "      <td>0.839187</td>\n",
       "      <td>0.893808</td>\n",
       "      <td>-0.479743</td>\n",
       "      <td>-0.372146</td>\n",
       "      <td>-0.562782</td>\n",
       "    </tr>\n",
       "    <tr>\n",
       "      <th>displacement</th>\n",
       "      <td>-0.801543</td>\n",
       "      <td>0.951825</td>\n",
       "      <td>1.000000</td>\n",
       "      <td>0.888972</td>\n",
       "      <td>0.929479</td>\n",
       "      <td>-0.512604</td>\n",
       "      <td>-0.384505</td>\n",
       "      <td>-0.620072</td>\n",
       "    </tr>\n",
       "    <tr>\n",
       "      <th>horsepower</th>\n",
       "      <td>-0.772308</td>\n",
       "      <td>0.839187</td>\n",
       "      <td>0.888972</td>\n",
       "      <td>1.000000</td>\n",
       "      <td>0.855325</td>\n",
       "      <td>-0.672726</td>\n",
       "      <td>-0.430757</td>\n",
       "      <td>-0.451938</td>\n",
       "    </tr>\n",
       "    <tr>\n",
       "      <th>weight</th>\n",
       "      <td>-0.827333</td>\n",
       "      <td>0.893808</td>\n",
       "      <td>0.929479</td>\n",
       "      <td>0.855325</td>\n",
       "      <td>1.000000</td>\n",
       "      <td>-0.380938</td>\n",
       "      <td>-0.313227</td>\n",
       "      <td>-0.585384</td>\n",
       "    </tr>\n",
       "    <tr>\n",
       "      <th>acceleration</th>\n",
       "      <td>0.390101</td>\n",
       "      <td>-0.479743</td>\n",
       "      <td>-0.512604</td>\n",
       "      <td>-0.672726</td>\n",
       "      <td>-0.380938</td>\n",
       "      <td>1.000000</td>\n",
       "      <td>0.286697</td>\n",
       "      <td>0.203643</td>\n",
       "    </tr>\n",
       "    <tr>\n",
       "      <th>model_year</th>\n",
       "      <td>0.586743</td>\n",
       "      <td>-0.372146</td>\n",
       "      <td>-0.384505</td>\n",
       "      <td>-0.430757</td>\n",
       "      <td>-0.313227</td>\n",
       "      <td>0.286697</td>\n",
       "      <td>1.000000</td>\n",
       "      <td>0.198992</td>\n",
       "    </tr>\n",
       "    <tr>\n",
       "      <th>origin</th>\n",
       "      <td>0.562710</td>\n",
       "      <td>-0.562782</td>\n",
       "      <td>-0.620072</td>\n",
       "      <td>-0.451938</td>\n",
       "      <td>-0.585384</td>\n",
       "      <td>0.203643</td>\n",
       "      <td>0.198992</td>\n",
       "      <td>1.000000</td>\n",
       "    </tr>\n",
       "  </tbody>\n",
       "</table>\n",
       "</div>"
      ],
      "text/plain": [
       "                   mpg  cylinders  displacement  horsepower    weight  \\\n",
       "mpg           1.000000  -0.770459     -0.801543   -0.772308 -0.827333   \n",
       "cylinders    -0.770459   1.000000      0.951825    0.839187  0.893808   \n",
       "displacement -0.801543   0.951825      1.000000    0.888972  0.929479   \n",
       "horsepower   -0.772308   0.839187      0.888972    1.000000  0.855325   \n",
       "weight       -0.827333   0.893808      0.929479    0.855325  1.000000   \n",
       "acceleration  0.390101  -0.479743     -0.512604   -0.672726 -0.380938   \n",
       "model_year    0.586743  -0.372146     -0.384505   -0.430757 -0.313227   \n",
       "origin        0.562710  -0.562782     -0.620072   -0.451938 -0.585384   \n",
       "\n",
       "              acceleration  model_year    origin  \n",
       "mpg               0.390101    0.586743  0.562710  \n",
       "cylinders        -0.479743   -0.372146 -0.562782  \n",
       "displacement     -0.512604   -0.384505 -0.620072  \n",
       "horsepower       -0.672726   -0.430757 -0.451938  \n",
       "weight           -0.380938   -0.313227 -0.585384  \n",
       "acceleration      1.000000    0.286697  0.203643  \n",
       "model_year        0.286697    1.000000  0.198992  \n",
       "origin            0.203643    0.198992  1.000000  "
      ]
     },
     "execution_count": 19,
     "metadata": {},
     "output_type": "execute_result"
    }
   ],
   "source": [
    "corr_matrix"
   ]
  },
  {
   "cell_type": "markdown",
   "id": "e50f054d",
   "metadata": {},
   "source": [
    "- Seleccionando solo el atributo **`mpg`** (nuestra variable dependiente), podemos ordernar de acuerdo a su correlación con otros atributos.\n",
    "- ¿Qué atributos están más correlacionados con **`mpg`**? "
   ]
  },
  {
   "cell_type": "code",
   "execution_count": 20,
   "id": "39fdb8ca",
   "metadata": {},
   "outputs": [
    {
     "data": {
      "text/plain": [
       "mpg             1.000000\n",
       "model_year      0.586743\n",
       "origin          0.562710\n",
       "acceleration    0.390101\n",
       "cylinders      -0.770459\n",
       "horsepower     -0.772308\n",
       "displacement   -0.801543\n",
       "weight         -0.827333\n",
       "Name: mpg, dtype: float64"
      ]
     },
     "execution_count": 20,
     "metadata": {},
     "output_type": "execute_result"
    }
   ],
   "source": [
    "corr_matrix['mpg'].sort_values(ascending=False)"
   ]
  },
  {
   "cell_type": "markdown",
   "id": "5c6b2137",
   "metadata": {},
   "source": [
    "- También podemos visualizar ese comportamiento usando la librería **`seaborn`** y su función **`pairplots`**."
   ]
  },
  {
   "cell_type": "code",
   "execution_count": 21,
   "id": "796d0b37",
   "metadata": {},
   "outputs": [
    {
     "data": {
      "text/plain": [
       "<seaborn.axisgrid.PairGrid at 0x2afdf14fe80>"
      ]
     },
     "execution_count": 21,
     "metadata": {},
     "output_type": "execute_result"
    },
    {
     "data": {
      "image/png": "[encoded data removed]",
      "text/plain": [
       "<Figure size 720x720 with 20 Axes>"
      ]
     },
     "metadata": {
      "needs_background": "light"
     },
     "output_type": "display_data"
    }
   ],
   "source": [
    "# Librería de visualización de datos\n",
    "import seaborn as sns\n",
    "\n",
    "# Principales atributos a analizar\n",
    "attributes = ['mpg', 'horsepower', 'displacement', 'weight']\n",
    "\n",
    "# Corremos la función:\n",
    "sns.pairplot(train_set[attributes])"
   ]
  },
  {
   "cell_type": "markdown",
   "id": "fb028883",
   "metadata": {},
   "source": [
    "# 4. Debemos preparar los datos para usar Machine Learning\n",
    "- Para esto, primero separamos nuestras variables indipendientes (X) de nuestra variable dependiente (y): **`mpg`**."
   ]
  },
  {
   "cell_type": "code",
   "execution_count": 22,
   "id": "6cfa4207",
   "metadata": {},
   "outputs": [],
   "source": [
    "X = train_set.drop('mpg', axis=1)\n",
    "y = train_set[['mpg']].copy()"
   ]
  },
  {
   "cell_type": "markdown",
   "id": "27dd39eb",
   "metadata": {},
   "source": [
    "- Podemos visualizar nuestros dos nuevos dataframes:"
   ]
  },
  {
   "cell_type": "code",
   "execution_count": 23,
   "id": "86ba4c32",
   "metadata": {},
   "outputs": [
    {
     "data": {
      "text/html": [
       "<div>\n",
       "<style scoped>\n",
       "    .dataframe tbody tr th:only-of-type {\n",
       "        vertical-align: middle;\n",
       "    }\n",
       "\n",
       "    .dataframe tbody tr th {\n",
       "        vertical-align: top;\n",
       "    }\n",
       "\n",
       "    .dataframe thead th {\n",
       "        text-align: right;\n",
       "    }\n",
       "</style>\n",
       "<table border=\"1\" class=\"dataframe\">\n",
       "  <thead>\n",
       "    <tr style=\"text-align: right;\">\n",
       "      <th></th>\n",
       "      <th>cylinders</th>\n",
       "      <th>displacement</th>\n",
       "      <th>horsepower</th>\n",
       "      <th>weight</th>\n",
       "      <th>acceleration</th>\n",
       "      <th>model_year</th>\n",
       "      <th>origin</th>\n",
       "      <th>car_name</th>\n",
       "    </tr>\n",
       "  </thead>\n",
       "  <tbody>\n",
       "    <tr>\n",
       "      <th>3</th>\n",
       "      <td>8</td>\n",
       "      <td>304.0</td>\n",
       "      <td>150.0</td>\n",
       "      <td>3433.0</td>\n",
       "      <td>12.0</td>\n",
       "      <td>70</td>\n",
       "      <td>1</td>\n",
       "      <td>amc rebel sst</td>\n",
       "    </tr>\n",
       "    <tr>\n",
       "      <th>18</th>\n",
       "      <td>4</td>\n",
       "      <td>97.0</td>\n",
       "      <td>88.0</td>\n",
       "      <td>2130.0</td>\n",
       "      <td>14.5</td>\n",
       "      <td>70</td>\n",
       "      <td>3</td>\n",
       "      <td>datsun pl510</td>\n",
       "    </tr>\n",
       "    <tr>\n",
       "      <th>376</th>\n",
       "      <td>4</td>\n",
       "      <td>91.0</td>\n",
       "      <td>68.0</td>\n",
       "      <td>2025.0</td>\n",
       "      <td>18.2</td>\n",
       "      <td>82</td>\n",
       "      <td>3</td>\n",
       "      <td>mazda glc custom l</td>\n",
       "    </tr>\n",
       "    <tr>\n",
       "      <th>248</th>\n",
       "      <td>4</td>\n",
       "      <td>91.0</td>\n",
       "      <td>60.0</td>\n",
       "      <td>1800.0</td>\n",
       "      <td>16.4</td>\n",
       "      <td>78</td>\n",
       "      <td>3</td>\n",
       "      <td>honda civic cvcc</td>\n",
       "    </tr>\n",
       "    <tr>\n",
       "      <th>177</th>\n",
       "      <td>4</td>\n",
       "      <td>115.0</td>\n",
       "      <td>95.0</td>\n",
       "      <td>2694.0</td>\n",
       "      <td>15.0</td>\n",
       "      <td>75</td>\n",
       "      <td>2</td>\n",
       "      <td>audi 100ls</td>\n",
       "    </tr>\n",
       "  </tbody>\n",
       "</table>\n",
       "</div>"
      ],
      "text/plain": [
       "     cylinders  displacement  horsepower  weight  acceleration  model_year  \\\n",
       "3            8         304.0       150.0  3433.0          12.0          70   \n",
       "18           4          97.0        88.0  2130.0          14.5          70   \n",
       "376          4          91.0        68.0  2025.0          18.2          82   \n",
       "248          4          91.0        60.0  1800.0          16.4          78   \n",
       "177          4         115.0        95.0  2694.0          15.0          75   \n",
       "\n",
       "     origin            car_name  \n",
       "3         1       amc rebel sst  \n",
       "18        3        datsun pl510  \n",
       "376       3  mazda glc custom l  \n",
       "248       3    honda civic cvcc  \n",
       "177       2          audi 100ls  "
      ]
     },
     "execution_count": 23,
     "metadata": {},
     "output_type": "execute_result"
    }
   ],
   "source": [
    "X.head()"
   ]
  },
  {
   "cell_type": "code",
   "execution_count": 24,
   "id": "e279679b",
   "metadata": {},
   "outputs": [
    {
     "data": {
      "text/html": [
       "<div>\n",
       "<style scoped>\n",
       "    .dataframe tbody tr th:only-of-type {\n",
       "        vertical-align: middle;\n",
       "    }\n",
       "\n",
       "    .dataframe tbody tr th {\n",
       "        vertical-align: top;\n",
       "    }\n",
       "\n",
       "    .dataframe thead th {\n",
       "        text-align: right;\n",
       "    }\n",
       "</style>\n",
       "<table border=\"1\" class=\"dataframe\">\n",
       "  <thead>\n",
       "    <tr style=\"text-align: right;\">\n",
       "      <th></th>\n",
       "      <th>mpg</th>\n",
       "    </tr>\n",
       "  </thead>\n",
       "  <tbody>\n",
       "    <tr>\n",
       "      <th>3</th>\n",
       "      <td>16.0</td>\n",
       "    </tr>\n",
       "    <tr>\n",
       "      <th>18</th>\n",
       "      <td>27.0</td>\n",
       "    </tr>\n",
       "    <tr>\n",
       "      <th>376</th>\n",
       "      <td>37.0</td>\n",
       "    </tr>\n",
       "    <tr>\n",
       "      <th>248</th>\n",
       "      <td>36.1</td>\n",
       "    </tr>\n",
       "    <tr>\n",
       "      <th>177</th>\n",
       "      <td>23.0</td>\n",
       "    </tr>\n",
       "  </tbody>\n",
       "</table>\n",
       "</div>"
      ],
      "text/plain": [
       "      mpg\n",
       "3    16.0\n",
       "18   27.0\n",
       "376  37.0\n",
       "248  36.1\n",
       "177  23.0"
      ]
     },
     "execution_count": 24,
     "metadata": {},
     "output_type": "execute_result"
    }
   ],
   "source": [
    "y.head()"
   ]
  },
  {
   "cell_type": "markdown",
   "id": "2b2253c2",
   "metadata": {},
   "source": [
    "## Ahora, sigue limpiar los datos"
   ]
  },
  {
   "cell_type": "markdown",
   "id": "5b33cd20",
   "metadata": {},
   "source": [
    "- No nos interesa el nombre del carro, ya que es una variable categórica y los algoritmos de Machine Learning sólo aceptan inputs numéricos.\n",
    "- En nuestro caso, vamos a eliminar esta columna.\n",
    "- Existen formas de convertir atributos categóricos en valores numéricos, pero están fuera del alcance de esta demostración."
   ]
  },
  {
   "cell_type": "code",
   "execution_count": 25,
   "id": "66898f6c",
   "metadata": {},
   "outputs": [],
   "source": [
    "X = X.drop('car_name', axis=1)"
   ]
  },
  {
   "cell_type": "markdown",
   "id": "f28c1c3a",
   "metadata": {},
   "source": [
    "- Adicionalmente, debemos evitar los valores vacíos del dataset.\n",
    "- Podemos tumbar los registros, elminar el atributo o rellenarlos.\n",
    "- Nosotros decidimos rellenarlos con su mediana, utilizan la clase **`SimpleImputer`** de **`scikit-learn`**."
   ]
  },
  {
   "cell_type": "code",
   "execution_count": 26,
   "id": "082804ce",
   "metadata": {},
   "outputs": [
    {
     "data": {
      "text/html": [
       "<style>#sk-container-id-1 {color: black;background-color: white;}#sk-container-id-1 pre{padding: 0;}#sk-container-id-1 div.sk-toggleable {background-color: white;}#sk-container-id-1 label.sk-toggleable__label {cursor: pointer;display: block;width: 100%;margin-bottom: 0;padding: 0.3em;box-sizing: border-box;text-align: center;}#sk-container-id-1 label.sk-toggleable__label-arrow:before {content: \"▸\";float: left;margin-right: 0.25em;color: #696969;}#sk-container-id-1 label.sk-toggleable__label-arrow:hover:before {color: black;}#sk-container-id-1 div.sk-estimator:hover label.sk-toggleable__label-arrow:before {color: black;}#sk-container-id-1 div.sk-toggleable__content {max-height: 0;max-width: 0;overflow: hidden;text-align: left;background-color: #f0f8ff;}#sk-container-id-1 div.sk-toggleable__content pre {margin: 0.2em;color: black;border-radius: 0.25em;background-color: #f0f8ff;}#sk-container-id-1 input.sk-toggleable__control:checked~div.sk-toggleable__content {max-height: 200px;max-width: 100%;overflow: auto;}#sk-container-id-1 input.sk-toggleable__control:checked~label.sk-toggleable__label-arrow:before {content: \"▾\";}#sk-container-id-1 div.sk-estimator input.sk-toggleable__control:checked~label.sk-toggleable__label {background-color: #d4ebff;}#sk-container-id-1 div.sk-label input.sk-toggleable__control:checked~label.sk-toggleable__label {background-color: #d4ebff;}#sk-container-id-1 input.sk-hidden--visually {border: 0;clip: rect(1px 1px 1px 1px);clip: rect(1px, 1px, 1px, 1px);height: 1px;margin: -1px;overflow: hidden;padding: 0;position: absolute;width: 1px;}#sk-container-id-1 div.sk-estimator {font-family: monospace;background-color: #f0f8ff;border: 1px dotted black;border-radius: 0.25em;box-sizing: border-box;margin-bottom: 0.5em;}#sk-container-id-1 div.sk-estimator:hover {background-color: #d4ebff;}#sk-container-id-1 div.sk-parallel-item::after {content: \"\";width: 100%;border-bottom: 1px solid gray;flex-grow: 1;}#sk-container-id-1 div.sk-label:hover label.sk-toggleable__label {background-color: #d4ebff;}#sk-container-id-1 div.sk-serial::before {content: \"\";position: absolute;border-left: 1px solid gray;box-sizing: border-box;top: 0;bottom: 0;left: 50%;z-index: 0;}#sk-container-id-1 div.sk-serial {display: flex;flex-direction: column;align-items: center;background-color: white;padding-right: 0.2em;padding-left: 0.2em;position: relative;}#sk-container-id-1 div.sk-item {position: relative;z-index: 1;}#sk-container-id-1 div.sk-parallel {display: flex;align-items: stretch;justify-content: center;background-color: white;position: relative;}#sk-container-id-1 div.sk-item::before, #sk-container-id-1 div.sk-parallel-item::before {content: \"\";position: absolute;border-left: 1px solid gray;box-sizing: border-box;top: 0;bottom: 0;left: 50%;z-index: -1;}#sk-container-id-1 div.sk-parallel-item {display: flex;flex-direction: column;z-index: 1;position: relative;background-color: white;}#sk-container-id-1 div.sk-parallel-item:first-child::after {align-self: flex-end;width: 50%;}#sk-container-id-1 div.sk-parallel-item:last-child::after {align-self: flex-start;width: 50%;}#sk-container-id-1 div.sk-parallel-item:only-child::after {width: 0;}#sk-container-id-1 div.sk-dashed-wrapped {border: 1px dashed gray;margin: 0 0.4em 0.5em 0.4em;box-sizing: border-box;padding-bottom: 0.4em;background-color: white;}#sk-container-id-1 div.sk-label label {font-family: monospace;font-weight: bold;display: inline-block;line-height: 1.2em;}#sk-container-id-1 div.sk-label-container {text-align: center;}#sk-container-id-1 div.sk-container {/* jupyter's `normalize.less` sets `[hidden] { display: none; }` but bootstrap.min.css set `[hidden] { display: none !important; }` so we also need the `!important` here to be able to override the default hidden behavior on the sphinx rendered scikit-learn.org. See: https://github.com/scikit-learn/scikit-learn/issues/21755 */display: inline-block !important;position: relative;}#sk-container-id-1 div.sk-text-repr-fallback {display: none;}</style><div id=\"sk-container-id-1\" class=\"sk-top-container\"><div class=\"sk-text-repr-fallback\"><pre>SimpleImputer(strategy=&#x27;median&#x27;)</pre><b>In a Jupyter environment, please rerun this cell to show the HTML representation or trust the notebook. <br />On GitHub, the HTML representation is unable to render, please try loading this page with nbviewer.org.</b></div><div class=\"sk-container\" hidden><div class=\"sk-item\"><div class=\"sk-estimator sk-toggleable\"><input class=\"sk-toggleable__control sk-hidden--visually\" id=\"sk-estimator-id-1\" type=\"checkbox\" checked><label for=\"sk-estimator-id-1\" class=\"sk-toggleable__label sk-toggleable__label-arrow\">SimpleImputer</label><div class=\"sk-toggleable__content\"><pre>SimpleImputer(strategy=&#x27;median&#x27;)</pre></div></div></div></div></div>"
      ],
      "text/plain": [
       "SimpleImputer(strategy='median')"
      ]
     },
     "execution_count": 26,
     "metadata": {},
     "output_type": "execute_result"
    }
   ],
   "source": [
    "# Importamos SimpleImputer\n",
    "from sklearn.impute import SimpleImputer\n",
    "\n",
    "# Inicializas \"imputer\"\n",
    "imputer = SimpleImputer(strategy='median')\n",
    "\n",
    "# Lo entrenas con los datos - permitas que se \"ajuste\", aprendiendo las medianas de cada atributo\n",
    "imputer.fit(X)"
   ]
  },
  {
   "cell_type": "markdown",
   "id": "a6864100",
   "metadata": {},
   "source": [
    "- Podemos imprimir los valores de las medianas de cada atributo, captados por **`imputer`**."
   ]
  },
  {
   "cell_type": "code",
   "execution_count": 27,
   "id": "72984ff9",
   "metadata": {},
   "outputs": [
    {
     "data": {
      "text/plain": [
       "array([4.0000e+00, 1.4850e+02, 9.2000e+01, 2.8225e+03, 1.5500e+01,\n",
       "       7.6000e+01, 1.0000e+00])"
      ]
     },
     "execution_count": 27,
     "metadata": {},
     "output_type": "execute_result"
    }
   ],
   "source": [
    "imputer.statistics_"
   ]
  },
  {
   "cell_type": "markdown",
   "id": "9cd5be6f",
   "metadata": {},
   "source": [
    "- Estos valores coinciden con obtener las medianas vía python."
   ]
  },
  {
   "cell_type": "code",
   "execution_count": 28,
   "id": "effea0fb",
   "metadata": {},
   "outputs": [
    {
     "data": {
      "text/plain": [
       "array([4.0000e+00, 1.4850e+02, 9.2000e+01, 2.8225e+03, 1.5500e+01,\n",
       "       7.6000e+01, 1.0000e+00])"
      ]
     },
     "execution_count": 28,
     "metadata": {},
     "output_type": "execute_result"
    }
   ],
   "source": [
    "X.median().values"
   ]
  },
  {
   "cell_type": "markdown",
   "id": "1539396c",
   "metadata": {},
   "source": [
    "- Finalmente, **transformamos** nuestro dataset **`X`**, rellenando esos valores vacíos con las medianas.\n",
    "- Ahora, se llama **`X_tr`**."
   ]
  },
  {
   "cell_type": "code",
   "execution_count": 29,
   "id": "ac418836",
   "metadata": {},
   "outputs": [],
   "source": [
    "X_tr = imputer.transform(X)"
   ]
  },
  {
   "cell_type": "markdown",
   "id": "891b8853",
   "metadata": {},
   "source": [
    "- Sin embargo, queda como una matriz medio fea:"
   ]
  },
  {
   "cell_type": "code",
   "execution_count": 30,
   "id": "bef842b8",
   "metadata": {},
   "outputs": [
    {
     "data": {
      "text/plain": [
       "array([[  8. , 304. , 150. , ...,  12. ,  70. ,   1. ],\n",
       "       [  4. ,  97. ,  88. , ...,  14.5,  70. ,   3. ],\n",
       "       [  4. ,  91. ,  68. , ...,  18.2,  82. ,   3. ],\n",
       "       ...,\n",
       "       [  4. , 134. ,  95. , ...,  14.8,  78. ,   3. ],\n",
       "       [  4. ,  89. ,  62. , ...,  17.3,  81. ,   3. ],\n",
       "       [  4. ,  97. ,  46. , ...,  21. ,  73. ,   2. ]])"
      ]
     },
     "execution_count": 30,
     "metadata": {},
     "output_type": "execute_result"
    }
   ],
   "source": [
    "X_tr"
   ]
  },
  {
   "cell_type": "markdown",
   "id": "51741c0c",
   "metadata": {},
   "source": [
    "- Podemos regresarlo a un DataFrame de pandas llamado **`X_imputed`** de la siguiente manera:"
   ]
  },
  {
   "cell_type": "code",
   "execution_count": 31,
   "id": "1f7ceeb9",
   "metadata": {},
   "outputs": [],
   "source": [
    "X_imputed = pd.DataFrame(X_tr, columns=X.columns, index=X.index)"
   ]
  },
  {
   "cell_type": "markdown",
   "id": "86d4a5e5",
   "metadata": {},
   "source": [
    "- Para validar si realmente funcionó, solo tenemos que contar los datos nulos de nuestro dataset original (**`X`**) y nuestro dataset imputado (**`X_tr`**):"
   ]
  },
  {
   "cell_type": "code",
   "execution_count": 32,
   "id": "cdc79b98",
   "metadata": {},
   "outputs": [
    {
     "data": {
      "text/plain": [
       "cylinders       0\n",
       "displacement    0\n",
       "horsepower      5\n",
       "weight          0\n",
       "acceleration    0\n",
       "model_year      0\n",
       "origin          0\n",
       "dtype: int64"
      ]
     },
     "execution_count": 32,
     "metadata": {},
     "output_type": "execute_result"
    }
   ],
   "source": [
    "X.isnull().sum()"
   ]
  },
  {
   "cell_type": "code",
   "execution_count": 33,
   "id": "28e61e2a",
   "metadata": {},
   "outputs": [
    {
     "data": {
      "text/plain": [
       "cylinders       0\n",
       "displacement    0\n",
       "horsepower      0\n",
       "weight          0\n",
       "acceleration    0\n",
       "model_year      0\n",
       "origin          0\n",
       "dtype: int64"
      ]
     },
     "execution_count": 33,
     "metadata": {},
     "output_type": "execute_result"
    }
   ],
   "source": [
    "X_imputed.isnull().sum()"
   ]
  },
  {
   "cell_type": "markdown",
   "id": "9533caeb",
   "metadata": {},
   "source": [
    "## Feature Scaling\n",
    "- Otro punto importante de la prepación de los datos es normalizar los datos para que estén en una misma escala.\n",
    "- Algunos algoritmos de Machine Learning no funcionan de la mejor manera cuando la escala de sus inputs es muy diferente.\n",
    "- Existen varias opciones, pero nosotros vamos a escalar los datos usando estandarización:\n",
    "$$\n",
    "  z = \\frac{x-\\mu}{\\theta}\n",
    "$$\n",
    "- Para esto, vamos a importar **`StandardScaler`** de **`scikit-learn`**."
   ]
  },
  {
   "cell_type": "code",
   "execution_count": 34,
   "id": "bae9c1f9",
   "metadata": {},
   "outputs": [
    {
     "data": {
      "text/html": [
       "<style>#sk-container-id-2 {color: black;background-color: white;}#sk-container-id-2 pre{padding: 0;}#sk-container-id-2 div.sk-toggleable {background-color: white;}#sk-container-id-2 label.sk-toggleable__label {cursor: pointer;display: block;width: 100%;margin-bottom: 0;padding: 0.3em;box-sizing: border-box;text-align: center;}#sk-container-id-2 label.sk-toggleable__label-arrow:before {content: \"▸\";float: left;margin-right: 0.25em;color: #696969;}#sk-container-id-2 label.sk-toggleable__label-arrow:hover:before {color: black;}#sk-container-id-2 div.sk-estimator:hover label.sk-toggleable__label-arrow:before {color: black;}#sk-container-id-2 div.sk-toggleable__content {max-height: 0;max-width: 0;overflow: hidden;text-align: left;background-color: #f0f8ff;}#sk-container-id-2 div.sk-toggleable__content pre {margin: 0.2em;color: black;border-radius: 0.25em;background-color: #f0f8ff;}#sk-container-id-2 input.sk-toggleable__control:checked~div.sk-toggleable__content {max-height: 200px;max-width: 100%;overflow: auto;}#sk-container-id-2 input.sk-toggleable__control:checked~label.sk-toggleable__label-arrow:before {content: \"▾\";}#sk-container-id-2 div.sk-estimator input.sk-toggleable__control:checked~label.sk-toggleable__label {background-color: #d4ebff;}#sk-container-id-2 div.sk-label input.sk-toggleable__control:checked~label.sk-toggleable__label {background-color: #d4ebff;}#sk-container-id-2 input.sk-hidden--visually {border: 0;clip: rect(1px 1px 1px 1px);clip: rect(1px, 1px, 1px, 1px);height: 1px;margin: -1px;overflow: hidden;padding: 0;position: absolute;width: 1px;}#sk-container-id-2 div.sk-estimator {font-family: monospace;background-color: #f0f8ff;border: 1px dotted black;border-radius: 0.25em;box-sizing: border-box;margin-bottom: 0.5em;}#sk-container-id-2 div.sk-estimator:hover {background-color: #d4ebff;}#sk-container-id-2 div.sk-parallel-item::after {content: \"\";width: 100%;border-bottom: 1px solid gray;flex-grow: 1;}#sk-container-id-2 div.sk-label:hover label.sk-toggleable__label {background-color: #d4ebff;}#sk-container-id-2 div.sk-serial::before {content: \"\";position: absolute;border-left: 1px solid gray;box-sizing: border-box;top: 0;bottom: 0;left: 50%;z-index: 0;}#sk-container-id-2 div.sk-serial {display: flex;flex-direction: column;align-items: center;background-color: white;padding-right: 0.2em;padding-left: 0.2em;position: relative;}#sk-container-id-2 div.sk-item {position: relative;z-index: 1;}#sk-container-id-2 div.sk-parallel {display: flex;align-items: stretch;justify-content: center;background-color: white;position: relative;}#sk-container-id-2 div.sk-item::before, #sk-container-id-2 div.sk-parallel-item::before {content: \"\";position: absolute;border-left: 1px solid gray;box-sizing: border-box;top: 0;bottom: 0;left: 50%;z-index: -1;}#sk-container-id-2 div.sk-parallel-item {display: flex;flex-direction: column;z-index: 1;position: relative;background-color: white;}#sk-container-id-2 div.sk-parallel-item:first-child::after {align-self: flex-end;width: 50%;}#sk-container-id-2 div.sk-parallel-item:last-child::after {align-self: flex-start;width: 50%;}#sk-container-id-2 div.sk-parallel-item:only-child::after {width: 0;}#sk-container-id-2 div.sk-dashed-wrapped {border: 1px dashed gray;margin: 0 0.4em 0.5em 0.4em;box-sizing: border-box;padding-bottom: 0.4em;background-color: white;}#sk-container-id-2 div.sk-label label {font-family: monospace;font-weight: bold;display: inline-block;line-height: 1.2em;}#sk-container-id-2 div.sk-label-container {text-align: center;}#sk-container-id-2 div.sk-container {/* jupyter's `normalize.less` sets `[hidden] { display: none; }` but bootstrap.min.css set `[hidden] { display: none !important; }` so we also need the `!important` here to be able to override the default hidden behavior on the sphinx rendered scikit-learn.org. See: https://github.com/scikit-learn/scikit-learn/issues/21755 */display: inline-block !important;position: relative;}#sk-container-id-2 div.sk-text-repr-fallback {display: none;}</style><div id=\"sk-container-id-2\" class=\"sk-top-container\"><div class=\"sk-text-repr-fallback\"><pre>StandardScaler()</pre><b>In a Jupyter environment, please rerun this cell to show the HTML representation or trust the notebook. <br />On GitHub, the HTML representation is unable to render, please try loading this page with nbviewer.org.</b></div><div class=\"sk-container\" hidden><div class=\"sk-item\"><div class=\"sk-estimator sk-toggleable\"><input class=\"sk-toggleable__control sk-hidden--visually\" id=\"sk-estimator-id-2\" type=\"checkbox\" checked><label for=\"sk-estimator-id-2\" class=\"sk-toggleable__label sk-toggleable__label-arrow\">StandardScaler</label><div class=\"sk-toggleable__content\"><pre>StandardScaler()</pre></div></div></div></div></div>"
      ],
      "text/plain": [
       "StandardScaler()"
      ]
     },
     "execution_count": 34,
     "metadata": {},
     "output_type": "execute_result"
    }
   ],
   "source": [
    "# Importamos StandardScaler\n",
    "from sklearn.preprocessing import StandardScaler\n",
    "\n",
    "# Inicializas \"scaler\"\n",
    "scaler = StandardScaler()\n",
    "\n",
    "# Lo entrenas con los datos - permitas que se \"ajuste\", aprendiendo la media y desviación estándar\n",
    "scaler.fit(X_imputed)"
   ]
  },
  {
   "cell_type": "markdown",
   "id": "9134716f",
   "metadata": {},
   "source": [
    "- Como arriba, ahora **transformamos** nuestro dataset **`X_imputed`**, escalando los datos."
   ]
  },
  {
   "cell_type": "code",
   "execution_count": 35,
   "id": "84ea93b0",
   "metadata": {},
   "outputs": [],
   "source": [
    "X_scaled = scaler.transform(X_imputed)"
   ]
  },
  {
   "cell_type": "markdown",
   "id": "d91cf7aa",
   "metadata": {},
   "source": [
    "- Igual, podemos convertirlo en pandas DataFrame:"
   ]
  },
  {
   "cell_type": "code",
   "execution_count": 36,
   "id": "fd049519",
   "metadata": {},
   "outputs": [],
   "source": [
    "X_prepared = pd.DataFrame(X_scaled, columns=X.columns, index=X.index)"
   ]
  },
  {
   "cell_type": "markdown",
   "id": "aedc8e57",
   "metadata": {},
   "source": [
    "- Y comparar los datos originales con los preparados\n",
    "- ¿Observan la diferencia?"
   ]
  },
  {
   "cell_type": "code",
   "execution_count": 37,
   "id": "03c32907",
   "metadata": {},
   "outputs": [
    {
     "data": {
      "text/html": [
       "<div>\n",
       "<style scoped>\n",
       "    .dataframe tbody tr th:only-of-type {\n",
       "        vertical-align: middle;\n",
       "    }\n",
       "\n",
       "    .dataframe tbody tr th {\n",
       "        vertical-align: top;\n",
       "    }\n",
       "\n",
       "    .dataframe thead th {\n",
       "        text-align: right;\n",
       "    }\n",
       "</style>\n",
       "<table border=\"1\" class=\"dataframe\">\n",
       "  <thead>\n",
       "    <tr style=\"text-align: right;\">\n",
       "      <th></th>\n",
       "      <th>cylinders</th>\n",
       "      <th>displacement</th>\n",
       "      <th>horsepower</th>\n",
       "      <th>weight</th>\n",
       "      <th>acceleration</th>\n",
       "      <th>model_year</th>\n",
       "      <th>origin</th>\n",
       "    </tr>\n",
       "  </thead>\n",
       "  <tbody>\n",
       "    <tr>\n",
       "      <th>3</th>\n",
       "      <td>8</td>\n",
       "      <td>304.0</td>\n",
       "      <td>150.0</td>\n",
       "      <td>3433.0</td>\n",
       "      <td>12.0</td>\n",
       "      <td>70</td>\n",
       "      <td>1</td>\n",
       "    </tr>\n",
       "    <tr>\n",
       "      <th>18</th>\n",
       "      <td>4</td>\n",
       "      <td>97.0</td>\n",
       "      <td>88.0</td>\n",
       "      <td>2130.0</td>\n",
       "      <td>14.5</td>\n",
       "      <td>70</td>\n",
       "      <td>3</td>\n",
       "    </tr>\n",
       "    <tr>\n",
       "      <th>376</th>\n",
       "      <td>4</td>\n",
       "      <td>91.0</td>\n",
       "      <td>68.0</td>\n",
       "      <td>2025.0</td>\n",
       "      <td>18.2</td>\n",
       "      <td>82</td>\n",
       "      <td>3</td>\n",
       "    </tr>\n",
       "    <tr>\n",
       "      <th>248</th>\n",
       "      <td>4</td>\n",
       "      <td>91.0</td>\n",
       "      <td>60.0</td>\n",
       "      <td>1800.0</td>\n",
       "      <td>16.4</td>\n",
       "      <td>78</td>\n",
       "      <td>3</td>\n",
       "    </tr>\n",
       "    <tr>\n",
       "      <th>177</th>\n",
       "      <td>4</td>\n",
       "      <td>115.0</td>\n",
       "      <td>95.0</td>\n",
       "      <td>2694.0</td>\n",
       "      <td>15.0</td>\n",
       "      <td>75</td>\n",
       "      <td>2</td>\n",
       "    </tr>\n",
       "  </tbody>\n",
       "</table>\n",
       "</div>"
      ],
      "text/plain": [
       "     cylinders  displacement  horsepower  weight  acceleration  model_year  \\\n",
       "3            8         304.0       150.0  3433.0          12.0          70   \n",
       "18           4          97.0        88.0  2130.0          14.5          70   \n",
       "376          4          91.0        68.0  2025.0          18.2          82   \n",
       "248          4          91.0        60.0  1800.0          16.4          78   \n",
       "177          4         115.0        95.0  2694.0          15.0          75   \n",
       "\n",
       "     origin  \n",
       "3         1  \n",
       "18        3  \n",
       "376       3  \n",
       "248       3  \n",
       "177       2  "
      ]
     },
     "execution_count": 37,
     "metadata": {},
     "output_type": "execute_result"
    }
   ],
   "source": [
    "X.head()"
   ]
  },
  {
   "cell_type": "code",
   "execution_count": 38,
   "id": "76f45efc",
   "metadata": {},
   "outputs": [
    {
     "data": {
      "text/html": [
       "<div>\n",
       "<style scoped>\n",
       "    .dataframe tbody tr th:only-of-type {\n",
       "        vertical-align: middle;\n",
       "    }\n",
       "\n",
       "    .dataframe tbody tr th {\n",
       "        vertical-align: top;\n",
       "    }\n",
       "\n",
       "    .dataframe thead th {\n",
       "        text-align: right;\n",
       "    }\n",
       "</style>\n",
       "<table border=\"1\" class=\"dataframe\">\n",
       "  <thead>\n",
       "    <tr style=\"text-align: right;\">\n",
       "      <th></th>\n",
       "      <th>cylinders</th>\n",
       "      <th>displacement</th>\n",
       "      <th>horsepower</th>\n",
       "      <th>weight</th>\n",
       "      <th>acceleration</th>\n",
       "      <th>model_year</th>\n",
       "      <th>origin</th>\n",
       "    </tr>\n",
       "  </thead>\n",
       "  <tbody>\n",
       "    <tr>\n",
       "      <th>3</th>\n",
       "      <td>1.527188</td>\n",
       "      <td>1.090196</td>\n",
       "      <td>1.266232</td>\n",
       "      <td>0.552826</td>\n",
       "      <td>-1.319334</td>\n",
       "      <td>-1.696667</td>\n",
       "      <td>-0.729494</td>\n",
       "    </tr>\n",
       "    <tr>\n",
       "      <th>18</th>\n",
       "      <td>-0.850515</td>\n",
       "      <td>-0.922996</td>\n",
       "      <td>-0.407925</td>\n",
       "      <td>-0.999667</td>\n",
       "      <td>-0.413182</td>\n",
       "      <td>-1.696667</td>\n",
       "      <td>1.738368</td>\n",
       "    </tr>\n",
       "    <tr>\n",
       "      <th>376</th>\n",
       "      <td>-0.850515</td>\n",
       "      <td>-0.981350</td>\n",
       "      <td>-0.947975</td>\n",
       "      <td>-1.124772</td>\n",
       "      <td>0.927922</td>\n",
       "      <td>1.638975</td>\n",
       "      <td>1.738368</td>\n",
       "    </tr>\n",
       "    <tr>\n",
       "      <th>248</th>\n",
       "      <td>-0.850515</td>\n",
       "      <td>-0.981350</td>\n",
       "      <td>-1.163996</td>\n",
       "      <td>-1.392854</td>\n",
       "      <td>0.275493</td>\n",
       "      <td>0.527094</td>\n",
       "      <td>1.738368</td>\n",
       "    </tr>\n",
       "    <tr>\n",
       "      <th>177</th>\n",
       "      <td>-0.850515</td>\n",
       "      <td>-0.747936</td>\n",
       "      <td>-0.218907</td>\n",
       "      <td>-0.327675</td>\n",
       "      <td>-0.231952</td>\n",
       "      <td>-0.306816</td>\n",
       "      <td>0.504437</td>\n",
       "    </tr>\n",
       "  </tbody>\n",
       "</table>\n",
       "</div>"
      ],
      "text/plain": [
       "     cylinders  displacement  horsepower    weight  acceleration  model_year  \\\n",
       "3     1.527188      1.090196    1.266232  0.552826     -1.319334   -1.696667   \n",
       "18   -0.850515     -0.922996   -0.407925 -0.999667     -0.413182   -1.696667   \n",
       "376  -0.850515     -0.981350   -0.947975 -1.124772      0.927922    1.638975   \n",
       "248  -0.850515     -0.981350   -1.163996 -1.392854      0.275493    0.527094   \n",
       "177  -0.850515     -0.747936   -0.218907 -0.327675     -0.231952   -0.306816   \n",
       "\n",
       "       origin  \n",
       "3   -0.729494  \n",
       "18   1.738368  \n",
       "376  1.738368  \n",
       "248  1.738368  \n",
       "177  0.504437  "
      ]
     },
     "execution_count": 38,
     "metadata": {},
     "output_type": "execute_result"
    }
   ],
   "source": [
    "X_prepared.head()"
   ]
  },
  {
   "cell_type": "markdown",
   "id": "f3c1f4d0",
   "metadata": {},
   "source": [
    "# 5. Esto es lo divertido: Selecciona y entrena tu modelo\n",
    "- Existen diversos modelos de regresión múltiple que podemos utilizar.\n",
    "- Para este ejemplo, iniciaremos con una simple regresión lineal, importando **`LinearRegression`** de **`scikit-learn`**."
   ]
  },
  {
   "cell_type": "code",
   "execution_count": 39,
   "id": "cb66cc79",
   "metadata": {},
   "outputs": [
    {
     "data": {
      "text/html": [
       "<style>#sk-container-id-3 {color: black;background-color: white;}#sk-container-id-3 pre{padding: 0;}#sk-container-id-3 div.sk-toggleable {background-color: white;}#sk-container-id-3 label.sk-toggleable__label {cursor: pointer;display: block;width: 100%;margin-bottom: 0;padding: 0.3em;box-sizing: border-box;text-align: center;}#sk-container-id-3 label.sk-toggleable__label-arrow:before {content: \"▸\";float: left;margin-right: 0.25em;color: #696969;}#sk-container-id-3 label.sk-toggleable__label-arrow:hover:before {color: black;}#sk-container-id-3 div.sk-estimator:hover label.sk-toggleable__label-arrow:before {color: black;}#sk-container-id-3 div.sk-toggleable__content {max-height: 0;max-width: 0;overflow: hidden;text-align: left;background-color: #f0f8ff;}#sk-container-id-3 div.sk-toggleable__content pre {margin: 0.2em;color: black;border-radius: 0.25em;background-color: #f0f8ff;}#sk-container-id-3 input.sk-toggleable__control:checked~div.sk-toggleable__content {max-height: 200px;max-width: 100%;overflow: auto;}#sk-container-id-3 input.sk-toggleable__control:checked~label.sk-toggleable__label-arrow:before {content: \"▾\";}#sk-container-id-3 div.sk-estimator input.sk-toggleable__control:checked~label.sk-toggleable__label {background-color: #d4ebff;}#sk-container-id-3 div.sk-label input.sk-toggleable__control:checked~label.sk-toggleable__label {background-color: #d4ebff;}#sk-container-id-3 input.sk-hidden--visually {border: 0;clip: rect(1px 1px 1px 1px);clip: rect(1px, 1px, 1px, 1px);height: 1px;margin: -1px;overflow: hidden;padding: 0;position: absolute;width: 1px;}#sk-container-id-3 div.sk-estimator {font-family: monospace;background-color: #f0f8ff;border: 1px dotted black;border-radius: 0.25em;box-sizing: border-box;margin-bottom: 0.5em;}#sk-container-id-3 div.sk-estimator:hover {background-color: #d4ebff;}#sk-container-id-3 div.sk-parallel-item::after {content: \"\";width: 100%;border-bottom: 1px solid gray;flex-grow: 1;}#sk-container-id-3 div.sk-label:hover label.sk-toggleable__label {background-color: #d4ebff;}#sk-container-id-3 div.sk-serial::before {content: \"\";position: absolute;border-left: 1px solid gray;box-sizing: border-box;top: 0;bottom: 0;left: 50%;z-index: 0;}#sk-container-id-3 div.sk-serial {display: flex;flex-direction: column;align-items: center;background-color: white;padding-right: 0.2em;padding-left: 0.2em;position: relative;}#sk-container-id-3 div.sk-item {position: relative;z-index: 1;}#sk-container-id-3 div.sk-parallel {display: flex;align-items: stretch;justify-content: center;background-color: white;position: relative;}#sk-container-id-3 div.sk-item::before, #sk-container-id-3 div.sk-parallel-item::before {content: \"\";position: absolute;border-left: 1px solid gray;box-sizing: border-box;top: 0;bottom: 0;left: 50%;z-index: -1;}#sk-container-id-3 div.sk-parallel-item {display: flex;flex-direction: column;z-index: 1;position: relative;background-color: white;}#sk-container-id-3 div.sk-parallel-item:first-child::after {align-self: flex-end;width: 50%;}#sk-container-id-3 div.sk-parallel-item:last-child::after {align-self: flex-start;width: 50%;}#sk-container-id-3 div.sk-parallel-item:only-child::after {width: 0;}#sk-container-id-3 div.sk-dashed-wrapped {border: 1px dashed gray;margin: 0 0.4em 0.5em 0.4em;box-sizing: border-box;padding-bottom: 0.4em;background-color: white;}#sk-container-id-3 div.sk-label label {font-family: monospace;font-weight: bold;display: inline-block;line-height: 1.2em;}#sk-container-id-3 div.sk-label-container {text-align: center;}#sk-container-id-3 div.sk-container {/* jupyter's `normalize.less` sets `[hidden] { display: none; }` but bootstrap.min.css set `[hidden] { display: none !important; }` so we also need the `!important` here to be able to override the default hidden behavior on the sphinx rendered scikit-learn.org. See: https://github.com/scikit-learn/scikit-learn/issues/21755 */display: inline-block !important;position: relative;}#sk-container-id-3 div.sk-text-repr-fallback {display: none;}</style><div id=\"sk-container-id-3\" class=\"sk-top-container\"><div class=\"sk-text-repr-fallback\"><pre>LinearRegression()</pre><b>In a Jupyter environment, please rerun this cell to show the HTML representation or trust the notebook. <br />On GitHub, the HTML representation is unable to render, please try loading this page with nbviewer.org.</b></div><div class=\"sk-container\" hidden><div class=\"sk-item\"><div class=\"sk-estimator sk-toggleable\"><input class=\"sk-toggleable__control sk-hidden--visually\" id=\"sk-estimator-id-3\" type=\"checkbox\" checked><label for=\"sk-estimator-id-3\" class=\"sk-toggleable__label sk-toggleable__label-arrow\">LinearRegression</label><div class=\"sk-toggleable__content\"><pre>LinearRegression()</pre></div></div></div></div></div>"
      ],
      "text/plain": [
       "LinearRegression()"
      ]
     },
     "execution_count": 39,
     "metadata": {},
     "output_type": "execute_result"
    }
   ],
   "source": [
    "# Importa LinearRegression\n",
    "from sklearn.linear_model import LinearRegression\n",
    "\n",
    "# Inicializa el modelo como \"lin_reg\"\n",
    "lin_reg = LinearRegression()\n",
    "\n",
    "# Entrenas el modelo con los datos - permites que se \"ajuste\" a tus inputs y variables objetivo\n",
    "# El modelo aprende de los datos disponibles, y determina cómo se comportan\n",
    "lin_reg.fit(X_prepared, y)"
   ]
  },
  {
   "cell_type": "markdown",
   "id": "be9ea98b",
   "metadata": {},
   "source": [
    "- Ahora podemos **pronosticar** mpg a partir de ciertos inputs:"
   ]
  },
  {
   "cell_type": "code",
   "execution_count": 40,
   "id": "796ab5ee",
   "metadata": {},
   "outputs": [],
   "source": [
    "# Guarda la predicción en \"y_preds\" llamando .predict()\n",
    "y_preds = lin_reg.predict(X_prepared)"
   ]
  },
  {
   "cell_type": "markdown",
   "id": "f90c9370",
   "metadata": {},
   "source": [
    "- Como sabemos su valor real, podemos compararlo con el pronóstico y ver qué tan bien quedó."
   ]
  },
  {
   "cell_type": "code",
   "execution_count": 41,
   "id": "8be60528",
   "metadata": {},
   "outputs": [],
   "source": [
    "comparison_df = pd.DataFrame({\n",
    "    'Predicted Values': pd.DataFrame(y_preds)[0],\n",
    "    'Actual Values': y['mpg'].values\n",
    "})"
   ]
  },
  {
   "cell_type": "code",
   "execution_count": 42,
   "id": "225e29c8",
   "metadata": {},
   "outputs": [
    {
     "data": {
      "text/html": [
       "<div>\n",
       "<style scoped>\n",
       "    .dataframe tbody tr th:only-of-type {\n",
       "        vertical-align: middle;\n",
       "    }\n",
       "\n",
       "    .dataframe tbody tr th {\n",
       "        vertical-align: top;\n",
       "    }\n",
       "\n",
       "    .dataframe thead th {\n",
       "        text-align: right;\n",
       "    }\n",
       "</style>\n",
       "<table border=\"1\" class=\"dataframe\">\n",
       "  <thead>\n",
       "    <tr style=\"text-align: right;\">\n",
       "      <th></th>\n",
       "      <th>Predicted Values</th>\n",
       "      <th>Actual Values</th>\n",
       "    </tr>\n",
       "  </thead>\n",
       "  <tbody>\n",
       "    <tr>\n",
       "      <th>0</th>\n",
       "      <td>15.165209</td>\n",
       "      <td>16.0</td>\n",
       "    </tr>\n",
       "    <tr>\n",
       "      <th>1</th>\n",
       "      <td>25.276885</td>\n",
       "      <td>27.0</td>\n",
       "    </tr>\n",
       "    <tr>\n",
       "      <th>2</th>\n",
       "      <td>35.955334</td>\n",
       "      <td>37.0</td>\n",
       "    </tr>\n",
       "    <tr>\n",
       "      <th>3</th>\n",
       "      <td>34.277943</td>\n",
       "      <td>36.1</td>\n",
       "    </tr>\n",
       "    <tr>\n",
       "      <th>4</th>\n",
       "      <td>24.320455</td>\n",
       "      <td>23.0</td>\n",
       "    </tr>\n",
       "    <tr>\n",
       "      <th>...</th>\n",
       "      <td>...</td>\n",
       "      <td>...</td>\n",
       "    </tr>\n",
       "    <tr>\n",
       "      <th>313</th>\n",
       "      <td>25.101955</td>\n",
       "      <td>19.0</td>\n",
       "    </tr>\n",
       "    <tr>\n",
       "      <th>314</th>\n",
       "      <td>10.650276</td>\n",
       "      <td>12.0</td>\n",
       "    </tr>\n",
       "    <tr>\n",
       "      <th>315</th>\n",
       "      <td>29.493068</td>\n",
       "      <td>21.1</td>\n",
       "    </tr>\n",
       "    <tr>\n",
       "      <th>316</th>\n",
       "      <td>34.982507</td>\n",
       "      <td>37.7</td>\n",
       "    </tr>\n",
       "    <tr>\n",
       "      <th>317</th>\n",
       "      <td>28.553846</td>\n",
       "      <td>26.0</td>\n",
       "    </tr>\n",
       "  </tbody>\n",
       "</table>\n",
       "<p>318 rows × 2 columns</p>\n",
       "</div>"
      ],
      "text/plain": [
       "     Predicted Values  Actual Values\n",
       "0           15.165209           16.0\n",
       "1           25.276885           27.0\n",
       "2           35.955334           37.0\n",
       "3           34.277943           36.1\n",
       "4           24.320455           23.0\n",
       "..                ...            ...\n",
       "313         25.101955           19.0\n",
       "314         10.650276           12.0\n",
       "315         29.493068           21.1\n",
       "316         34.982507           37.7\n",
       "317         28.553846           26.0\n",
       "\n",
       "[318 rows x 2 columns]"
      ]
     },
     "execution_count": 42,
     "metadata": {},
     "output_type": "execute_result"
    }
   ],
   "source": [
    "comparison_df"
   ]
  },
  {
   "cell_type": "markdown",
   "id": "0f2b053f",
   "metadata": {},
   "source": [
    "### Evaluación\n",
    "- Finalmente, podemos evaluar su comportamiento.\n",
    "- Para este caso, utilizamos el RMSE, importando **`mean_squared_error`** de **`scikit-learn`**."
   ]
  },
  {
   "cell_type": "code",
   "execution_count": 43,
   "id": "49db3f00",
   "metadata": {},
   "outputs": [
    {
     "name": "stdout",
     "output_type": "stream",
     "text": [
      "El RMSE de regresión lineal es de: 3.414648957644513 mpg.\n"
     ]
    }
   ],
   "source": [
    "# Importa mean_squared_error\n",
    "from sklearn.metrics import mean_squared_error\n",
    "\n",
    "# Calcula el rmse, metiendo los valores reales (y) y el pronóstico (y_preds) a la función\n",
    "rmse = mean_squared_error(y, y_preds, squared=False)\n",
    "\n",
    "print(f\"El RMSE de regresión lineal es de: {rmse} mpg.\")"
   ]
  },
  {
   "cell_type": "markdown",
   "id": "c73969cc",
   "metadata": {},
   "source": [
    "- ¿Qué significa este valor? ¿Consideras que es un buen desempeño?"
   ]
  },
  {
   "cell_type": "markdown",
   "id": "29e33c87",
   "metadata": {},
   "source": [
    "# Sigues tu! Entrena los siguientes modelos:\n",
    "1. Reemplaza los guiones bajos ___ con el código necesario para entrenar cada uno de los tres modelos.\n",
    "2. Cuando termines, selecciona el modelo que tiene el mejor comportamiento."
   ]
  },
  {
   "cell_type": "markdown",
   "id": "fa264cda",
   "metadata": {},
   "source": [
    "## 1. Árbol de Decisión para Regresión"
   ]
  },
  {
   "cell_type": "code",
   "execution_count": 185,
   "id": "65e8c6c0",
   "metadata": {},
   "outputs": [
    {
     "name": "stdout",
     "output_type": "stream",
     "text": [
      "0.0\n"
     ]
    }
   ],
   "source": [
    "# Importa DecisionTreeRegressor\n",
    "from sklearn.tree import DecisionTreeRegressor\n",
    "\n",
    "# Inicializa el modelo como \"tree_reg\"\n",
    "tree_reg = DecisionTreeRegressor()\n",
    "\n",
    "# Entrena el modelo con los datos X y y correspondientes...\n",
    "tree_reg.___(___, ___)\n",
    "\n",
    "# Pronostica el mpg para los valores de X correspondientes...\n",
    "y_preds_tree = tree_reg.___(___)\n",
    "\n",
    "# Pronostica el mpg para los valores de X correspondientes...\n",
    "rmse_tree = mean_squared_error(___, ___, squared=False)\n",
    "\n",
    "print(f\"El RMSE de un árbol de decisión es: {rmse_tree} mpg.\")"
   ]
  },
  {
   "cell_type": "markdown",
   "id": "45c1eb09",
   "metadata": {},
   "source": [
    "## 2. Random Forests para Regresión"
   ]
  },
  {
   "cell_type": "code",
   "execution_count": 186,
   "id": "f06d4d26",
   "metadata": {},
   "outputs": [
    {
     "name": "stdout",
     "output_type": "stream",
     "text": [
      "1.0791735117919916\n"
     ]
    },
    {
     "name": "stderr",
     "output_type": "stream",
     "text": [
      "C:\\Users\\luisc\\AppData\\Local\\Temp/ipykernel_7700/2594307835.py:5: DataConversionWarning: A column-vector y was passed when a 1d array was expected. Please change the shape of y to (n_samples,), for example using ravel().\n",
      "  forest_reg.fit(X_prepared, y)\n"
     ]
    }
   ],
   "source": [
    "# Importa RandomForestRegressor\n",
    "from sklearn.ensemble import RandomForestRegressor\n",
    "\n",
    "# Inicializa el modelo como \"forest_reg\"\n",
    "forest_reg = RandomForestRegressor()\n",
    "\n",
    "# Entrena el modelo con los datos X y y correspondientes...\n",
    "forest_reg.fit(X_prepared, y)\n",
    "\n",
    "# Pronostica el mpg para los valores de X correspondientes...\n",
    "y_preds_forest = forest_reg.___(___)\n",
    "\n",
    "# Pronostica el mpg para los valores de X correspondientes...\n",
    "rmse_forest = mean_squared_error(___, ___, squared=False)\n",
    "\n",
    "print(f\"El RMSE de Random Forests es: {rmse_forest} mpg.\")"
   ]
  },
  {
   "cell_type": "markdown",
   "id": "c3257b4d",
   "metadata": {},
   "source": [
    "## 3. Y finalmente evalúa el mejor modelo con los datos de evaluación\n",
    "- Recuerdas que dejamos un set de evaluación que prometimos nunca tocar? Ahora es el momento...\n",
    "- Ahora vamos a evaluar el modelo con el test_set, datos que nuestro algoritmo nunca ha visto.\n",
    "- Por eso mismo, es probable que los resultados del RMSE sean bastante diferentes..."
   ]
  },
  {
   "cell_type": "markdown",
   "id": "e8ea784c",
   "metadata": {},
   "source": [
    "### Antes, debemos de preparar los datos de evaluación\n",
    "- Esto ya lo hice por ti -- debemos asegurarnos de que no existan datos vacíos, y que estén en la misma escala, para que el modelo funcione.\n",
    "- Solo debes correr la celda."
   ]
  },
  {
   "cell_type": "code",
   "execution_count": 192,
   "id": "8694567f",
   "metadata": {},
   "outputs": [
    {
     "name": "stderr",
     "output_type": "stream",
     "text": [
      "C:\\Users\\luisc\\anaconda3\\envs\\HOML_env\\lib\\site-packages\\sklearn\\base.py:450: UserWarning: X does not have valid feature names, but StandardScaler was fitted with feature names\n",
      "  warnings.warn(\n"
     ]
    }
   ],
   "source": [
    "# Seleccionar X_test y y_test del nuestro test_set\n",
    "X_test = test_set.drop('mpg', axis=1)\n",
    "y_test = test_set[['mpg']].copy()\n",
    "\n",
    "# Tumbamos \"car_name\"\n",
    "X_test = X_test.drop('car_name', axis=1)\n",
    "# Rellenamos datos vacíos con su mediana.\n",
    "X_test = imputer.transform(X_test)\n",
    "# Escalamos los datos.\n",
    "X_test = scaler.transform(X_test)"
   ]
  },
  {
   "cell_type": "markdown",
   "id": "31d77a0e",
   "metadata": {},
   "source": [
    "### Finalmente, podemos predicir\n",
    "- Solo reemplaza el espacio en blanco con el mejor modelo: lin_reg, tree_reg o forest_reg"
   ]
  },
  {
   "cell_type": "code",
   "execution_count": 197,
   "id": "64f5c7ff",
   "metadata": {},
   "outputs": [
    {
     "name": "stderr",
     "output_type": "stream",
     "text": [
      "C:\\Users\\luisc\\anaconda3\\envs\\HOML_env\\lib\\site-packages\\sklearn\\base.py:450: UserWarning: X does not have valid feature names, but DecisionTreeRegressor was fitted with feature names\n",
      "  warnings.warn(\n"
     ]
    }
   ],
   "source": [
    "# \"final_model\" será tu mejor modelo.\n",
    "final_model = ___\n",
    "\n",
    "# Pronosticamos sobre \"X_test\" (recuerda que el modelo ya fue entrenado)\n",
    "y_preds_final = final_model.predict(X_test)\n",
    "\n",
    "# Y finalmente medimos el error contra \"y_test\"\n",
    "rmse_final = mean_squared_error(y_test, y_preds_final, squared=False)\n",
    "\n",
    "print(f\"El RMSE del modelo final es: {rmse_final} mpg.\")"
   ]
  }
 ],
 "metadata": {
  "kernelspec": {
   "display_name": "Python 3 (ipykernel)",
   "language": "python",
   "name": "python3"
  },
  "language_info": {
   "codemirror_mode": {
    "name": "ipython",
    "version": 3
   },
   "file_extension": ".py",
   "mimetype": "text/x-python",
   "name": "python",
   "nbconvert_exporter": "python",
   "pygments_lexer": "ipython3",
   "version": "3.9.7"
  }
 },
 "nbformat": 4,
 "nbformat_minor": 5
}
